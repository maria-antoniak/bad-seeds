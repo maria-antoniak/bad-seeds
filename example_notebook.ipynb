{
 "cells": [
  {
   "cell_type": "markdown",
   "metadata": {},
   "source": [
    "# Imports"
   ]
  },
  {
   "cell_type": "code",
   "execution_count": 133,
   "metadata": {},
   "outputs": [],
   "source": [
    "from collections import defaultdict\n",
    "from operator import itemgetter\n",
    "import random\n",
    "\n",
    "from gensim.models import Word2Vec, KeyedVectors\n",
    "import numpy as np\n",
    "import pandas as pd\n",
    "import scipy\n",
    "from sklearn.decomposition import PCA\n",
    "\n",
    "%matplotlib inline\n",
    "import matplotlib.pyplot as plt\n",
    "import seaborn as sns\n",
    "sns.set(style='ticks', font_scale=1.2)\n",
    "\n",
    "import warnings\n",
    "warnings.filterwarnings('ignore')"
   ]
  },
  {
   "cell_type": "markdown",
   "metadata": {},
   "source": [
    "<br><br>\n",
    "\n",
    "# Paths"
   ]
  },
  {
   "cell_type": "code",
   "execution_count": 2,
   "metadata": {},
   "outputs": [],
   "source": [
    "base_directory_path = ''    # Update this to your directory path\n",
    "seeds_path        = base_directory_path + '/gathered_seeds.json'\n",
    "google_model_path = base_directory_path + '/GoogleNews-vectors-negative300.bin'"
   ]
  },
  {
   "cell_type": "markdown",
   "metadata": {},
   "source": [
    "<br><br>\n",
    "\n",
    "# General Functions"
   ]
  },
  {
   "cell_type": "code",
   "execution_count": 3,
   "metadata": {},
   "outputs": [],
   "source": [
    "def sort_by_mean(df, by, column, rot=0):\n",
    "    df2 = pd.DataFrame({col:vals[column] for col, vals in df.groupby(by)})\n",
    "    meds = df2.mean().sort_values(ascending=False)\n",
    "    return meds"
   ]
  },
  {
   "cell_type": "markdown",
   "metadata": {},
   "source": [
    "<br><br>\n",
    "\n",
    "# Load seeds"
   ]
  },
  {
   "cell_type": "code",
   "execution_count": 4,
   "metadata": {},
   "outputs": [],
   "source": [
    "seeds_df = pd.read_json(seeds_path)"
   ]
  },
  {
   "cell_type": "code",
   "execution_count": 5,
   "metadata": {},
   "outputs": [
    {
     "data": {
      "text/plain": [
       "178"
      ]
     },
     "execution_count": 5,
     "metadata": {},
     "output_type": "execute_result"
    }
   ],
   "source": [
    "len(seeds_df.index)  "
   ]
  },
  {
   "cell_type": "code",
   "execution_count": 6,
   "metadata": {},
   "outputs": [
    {
     "data": {
      "text/html": [
       "<div>\n",
       "<style scoped>\n",
       "    .dataframe tbody tr th:only-of-type {\n",
       "        vertical-align: middle;\n",
       "    }\n",
       "\n",
       "    .dataframe tbody tr th {\n",
       "        vertical-align: top;\n",
       "    }\n",
       "\n",
       "    .dataframe thead th {\n",
       "        text-align: right;\n",
       "    }\n",
       "</style>\n",
       "<table border=\"1\" class=\"dataframe\">\n",
       "  <thead>\n",
       "    <tr style=\"text-align: right;\">\n",
       "      <th></th>\n",
       "      <th>Category</th>\n",
       "      <th>Seeds</th>\n",
       "      <th>Source / Justification</th>\n",
       "      <th>Source Categories</th>\n",
       "      <th>Used in Paper</th>\n",
       "      <th>Link</th>\n",
       "      <th>Seeds ID</th>\n",
       "    </tr>\n",
       "  </thead>\n",
       "  <tbody>\n",
       "    <tr>\n",
       "      <th>23</th>\n",
       "      <td>female 2</td>\n",
       "      <td>['sister', 'mother', 'aunt', 'grandmother', 'd...</td>\n",
       "      <td>Nosek at al. (2002)</td>\n",
       "      <td>borrowed-from-social-sciences</td>\n",
       "      <td>Semantics derived automatically from language ...</td>\n",
       "      <td>https://dataverse.harvard.edu/dataset.xhtml?pe...</td>\n",
       "      <td>female_2-Caliskan_et_al_2017</td>\n",
       "    </tr>\n",
       "    <tr>\n",
       "      <th>67</th>\n",
       "      <td>male pairs</td>\n",
       "      <td>['he', 'son', 'his', 'him', 'father', 'man', '...</td>\n",
       "      <td>\"noun and pronoun pairs\"</td>\n",
       "      <td>curated</td>\n",
       "      <td>Word Embeddings Quantify 100 Years of Gender a...</td>\n",
       "      <td>https://github.com/nikhgarg/EmbeddingDynamicSt...</td>\n",
       "      <td>male_pairs-Garg_et_al_2018</td>\n",
       "    </tr>\n",
       "    <tr>\n",
       "      <th>112</th>\n",
       "      <td>male</td>\n",
       "      <td>['man', 'men', 'him', 'his', 'he']</td>\n",
       "      <td>The U.S. Equal Employment Opportunity Commissi...</td>\n",
       "      <td>corpus-derived</td>\n",
       "      <td>Social Bias in Elicited Natural Language Infer...</td>\n",
       "      <td>https://github.com/cjmay/snli-ethics</td>\n",
       "      <td>male-Rudinger_et_al_2017</td>\n",
       "    </tr>\n",
       "    <tr>\n",
       "      <th>131</th>\n",
       "      <td>feminine</td>\n",
       "      <td>['cute', 'gown', 'haircut', 'slimming', 'lacy'...</td>\n",
       "      <td>\"...to generate Empath’s category names and se...</td>\n",
       "      <td>crowd-sourced, curated, lexical-resources</td>\n",
       "      <td>Empath: Understanding Topic Signals in Large-S...</td>\n",
       "      <td>https://github.com/Ejhfast/empath-client</td>\n",
       "      <td>feminine-Fast_et_al_2016</td>\n",
       "    </tr>\n",
       "    <tr>\n",
       "      <th>81</th>\n",
       "      <td>occupations</td>\n",
       "      <td>['banker', 'carpenter', 'doctor', 'engineer', ...</td>\n",
       "      <td>In the survey, respondents were asked to rate ...</td>\n",
       "      <td>crowd-sourced, curated</td>\n",
       "      <td>The Geometry of Culture: Analyzing Meaning thr...</td>\n",
       "      <td>None</td>\n",
       "      <td>occupations-Kozlowski_et_al_2019</td>\n",
       "    </tr>\n",
       "  </tbody>\n",
       "</table>\n",
       "</div>"
      ],
      "text/plain": [
       "        Category                                              Seeds  \\\n",
       "23      female 2  ['sister', 'mother', 'aunt', 'grandmother', 'd...   \n",
       "67    male pairs  ['he', 'son', 'his', 'him', 'father', 'man', '...   \n",
       "112         male                 ['man', 'men', 'him', 'his', 'he']   \n",
       "131     feminine  ['cute', 'gown', 'haircut', 'slimming', 'lacy'...   \n",
       "81   occupations  ['banker', 'carpenter', 'doctor', 'engineer', ...   \n",
       "\n",
       "                                Source / Justification  \\\n",
       "23                                 Nosek at al. (2002)   \n",
       "67                            \"noun and pronoun pairs\"   \n",
       "112  The U.S. Equal Employment Opportunity Commissi...   \n",
       "131  \"...to generate Empath’s category names and se...   \n",
       "81   In the survey, respondents were asked to rate ...   \n",
       "\n",
       "                             Source Categories  \\\n",
       "23               borrowed-from-social-sciences   \n",
       "67                                     curated   \n",
       "112                             corpus-derived   \n",
       "131  crowd-sourced, curated, lexical-resources   \n",
       "81                      crowd-sourced, curated   \n",
       "\n",
       "                                         Used in Paper  \\\n",
       "23   Semantics derived automatically from language ...   \n",
       "67   Word Embeddings Quantify 100 Years of Gender a...   \n",
       "112  Social Bias in Elicited Natural Language Infer...   \n",
       "131  Empath: Understanding Topic Signals in Large-S...   \n",
       "81   The Geometry of Culture: Analyzing Meaning thr...   \n",
       "\n",
       "                                                  Link  \\\n",
       "23   https://dataverse.harvard.edu/dataset.xhtml?pe...   \n",
       "67   https://github.com/nikhgarg/EmbeddingDynamicSt...   \n",
       "112               https://github.com/cjmay/snli-ethics   \n",
       "131           https://github.com/Ejhfast/empath-client   \n",
       "81                                                None   \n",
       "\n",
       "                             Seeds ID  \n",
       "23       female_2-Caliskan_et_al_2017  \n",
       "67         male_pairs-Garg_et_al_2018  \n",
       "112          male-Rudinger_et_al_2017  \n",
       "131          feminine-Fast_et_al_2016  \n",
       "81   occupations-Kozlowski_et_al_2019  "
      ]
     },
     "execution_count": 6,
     "metadata": {},
     "output_type": "execute_result"
    }
   ],
   "source": [
    "seeds_df.sample(5)"
   ]
  },
  {
   "cell_type": "markdown",
   "metadata": {},
   "source": [
    "<br><br>\n",
    "\n",
    "# PCA Methods\n",
    "\n",
    "[Man is to computer programmer as woman is to homemaker? Debiasing word embeddings](https://dl.acm.org/doi/abs/10.5555/3157382.3157584)  \n",
    "Bolukbasi et al., 2016\n",
    "\n",
    "Run PCA on a difference matrix. Remember to center the vectors (or [standardize](https://scikit-learn.org/stable/auto_examples/preprocessing/plot_scaling_importance.html)) or your results won't look right."
   ]
  },
  {
   "cell_type": "code",
   "execution_count": 128,
   "metadata": {},
   "outputs": [],
   "source": [
    "def get_difference_matrix(model, pairs):\n",
    "    \n",
    "    M = []\n",
    "    \n",
    "    for word1, word2 in pairs:\n",
    "        \n",
    "        if word1 in model.wv.vocab and word2 in model.wv.vocab:\n",
    "        \n",
    "            a = model.wv[word1]/np.linalg.norm(model.wv[word1], ord=2)\n",
    "            b = model.wv[word2]/np.linalg.norm(model.wv[word2], ord=2)\n",
    "\n",
    "            d = a - b\n",
    "            M.append(d)\n",
    "            \n",
    "            e = -(a - b)\n",
    "            M.append(e)\n",
    "\n",
    "    M = np.array(M)\n",
    "    M = (M - np.mean(M)) / np.std(M)\n",
    "\n",
    "    return M\n",
    "\n",
    "\n",
    "def run_pca(model, seed_pairs):\n",
    "    difference_matrix = get_difference_matrix(model, seed_pairs)\n",
    "    try:\n",
    "        pca = PCA(n_components=len(seed_pairs)).fit(difference_matrix)\n",
    "        return pca.explained_variance_ratio_, pca.components_[0], pca.components_[1]\n",
    "    except ValueError:\n",
    "        return [], []\n",
    "\n",
    "\n",
    "def plot_explained_variance(explained_variance_ratios, plot_path=None):\n",
    "\n",
    "    data_dicts = []\n",
    "    for i, _ratio in enumerate(explained_variance_ratios):\n",
    "        data_dicts.append({'Component': str(i+1),\n",
    "                           'Explained Variance Ratio': _ratio})\n",
    "    data_df = pd.DataFrame(data_dicts)\n",
    "\n",
    "    plt.figure(figsize=(5, 2.5))\n",
    "    sns.set(style='ticks', font_scale=1.2)\n",
    "    sns.barplot(data=data_df,\n",
    "                x='Component',\n",
    "                y='Explained Variance Ratio',\n",
    "                ci='sd',\n",
    "                errwidth=1, \n",
    "                capsize=0.3,\n",
    "                color='skyblue',\n",
    "                order=['1', '2', '3', '4', '5', '6', '7', '8', '9', '10'])\n",
    "    plt.ylabel('Explained Variance')\n",
    "    sns.despine()\n",
    "\n",
    "    if plot_path:\n",
    "        plt.savefig(plot_path, bbox_inches='tight')\n",
    "    plt.show()"
   ]
  },
  {
   "cell_type": "markdown",
   "metadata": {},
   "source": [
    "<br><br>\n",
    "\n",
    "# WEAT Methods\n",
    "\n",
    "[Semantics derived automatically from language corpora contain human-like biases](https://science.sciencemag.org/content/356/6334/183)   \n",
    "Caliskan et al., 2017\n",
    "\n",
    "X and Y are the target words, e.g. `X = [programmer, scientist]` and `Y = [nurse, teacher]`.  \n",
    "A and B are the attribute words, e.g. `A = [man, male]` and `B = [woman, female]`.  \n",
    "\n",
    "The null hypothesis is that there is no difference between the two sets of target words in terms of their relative similarity to the two sets of attribute words. \n",
    "\n",
    "The permutation test measures the (un)likelihood of the null hypothesis by computing the probability that a random permutation of the attribute words would produce the observed (or greater) difference in sample means."
   ]
  },
  {
   "cell_type": "code",
   "execution_count": 8,
   "metadata": {},
   "outputs": [],
   "source": [
    "def get_s2(w, A, B, model):\n",
    "    similarities_a = [1-scipy.spatial.distance.cosine(model.wv[w], model.wv[a]) \n",
    "                      for a in A \n",
    "                      if w in model.wv.vocab and a in model.wv.vocab]\n",
    "    similarities_b = [1-scipy.spatial.distance.cosine(model.wv[w], model.wv[b]) \n",
    "                      for b in B\n",
    "                      if w in model.wv.vocab and b in model.wv.vocab]\n",
    "    if similarities_a and similarities_b:\n",
    "        return np.mean(similarities_a) - np.mean(similarities_b)\n",
    "    return 0\n",
    "\n",
    "\n",
    "def get_s1(X, Y, A, B, model):\n",
    "    return sum([get_s2(x, A, B, model) for x in X]) - sum([get_s2(y, A, B, model) for y in Y])\n",
    "\n",
    "\n",
    "def get_permutation_test(X, Y, A, B, model, test_statistic):\n",
    "    success_count = 0\n",
    "    count = 0\n",
    "    for _ in range(0, 100):\n",
    "        Z = X+Y\n",
    "        random.shuffle(Z)\n",
    "        M = Z[:int(len(Z)/2)]\n",
    "        N = Z[-(int(len(Z)/2)):]\n",
    "        if get_s1(M, N, A, B, model) > test_statistic:\n",
    "            success_count += 1\n",
    "        count += 1\n",
    "    return success_count / float(count)"
   ]
  },
  {
   "cell_type": "markdown",
   "metadata": {},
   "source": [
    "<br><br>\n",
    "\n",
    "# Coherence\n",
    "\n",
    "Tests the rank of the seed terms when projected onto the bias subspace; ideally, they should be far apart from each other."
   ]
  },
  {
   "cell_type": "code",
   "execution_count": 9,
   "metadata": {},
   "outputs": [],
   "source": [
    "def test_coherence_of_sorted_vocab(g, model, seeds1, seeds2):\n",
    "\n",
    "    word_similarity_dict = {}\n",
    "    for _word in model.wv.vocab:\n",
    "        _similarity = 1-scipy.spatial.distance.cosine(model.wv[_word], g)\n",
    "        word_similarity_dict[_word] = _similarity\n",
    "\n",
    "    sorted_vocab = [_word for _word, _similarity in sorted(word_similarity_dict.items(), key=lambda x: x[1])]\n",
    "    word_index_dict = {w: i for i, w in enumerate(sorted_vocab)}\n",
    "    word_rank_dict = {w: i/float(len(word_index_dict)) for w, i in word_index_dict.items()}\n",
    "\n",
    "    ranks1 = [word_rank_dict[s] for s in seeds1]\n",
    "    ranks2 = [word_rank_dict[s] for s in seeds2]\n",
    "\n",
    "    return abs(np.mean(ranks1) - np.mean(ranks2))\n",
    "\n",
    "def print_sorted_vocab(g, vocab, model, threshold=5):\n",
    "\n",
    "    word_similarity_dict = {}\n",
    "    for _word in vocab:\n",
    "        if _word in model.wv.vocab and model.wv.vocab[_word].count >= threshold:\n",
    "            word_similarity_dict[_word] = 1 - scipy.spatial.distance.cosine(model.wv[_word], g)\n",
    "\n",
    "    if len(word_similarity_dict) >= 200:\n",
    "        for _word, _similarity in sorted(word_similarity_dict.items(), key=itemgetter(1))[:100]:\n",
    "            print(_similarity, '\\t', _word)\n",
    "        print('...')  \n",
    "        for _word, _similarity in sorted(word_similarity_dict.items(), key=itemgetter(1))[-100:]:\n",
    "            print(_similarity, '\\t', _word)\n",
    "    else:\n",
    "        for _word, _similarity in sorted(word_similarity_dict.items(), key=itemgetter(1)):\n",
    "            print(_similarity, '\\t', _word)"
   ]
  },
  {
   "cell_type": "markdown",
   "metadata": {},
   "source": [
    "<br><br>\n",
    "\n",
    "# Load pre-trained model\n",
    "\n",
    "You can download the pretrained word2vec model from [Google](https://code.google.com/archive/p/word2vec/)."
   ]
  },
  {
   "cell_type": "code",
   "execution_count": 124,
   "metadata": {},
   "outputs": [],
   "source": [
    "google_model = KeyedVectors.load_word2vec_format(google_model_path, binary=True) \n",
    "google_model.init_sims(replace=True)"
   ]
  },
  {
   "cell_type": "markdown",
   "metadata": {},
   "source": [
    "<br><br>\n",
    "\n",
    "# Plot gender categories"
   ]
  },
  {
   "cell_type": "code",
   "execution_count": 131,
   "metadata": {},
   "outputs": [
    {
     "name": "stdout",
     "output_type": "stream",
     "text": [
      "['woman', 'girl', 'she', 'mother', 'daugher', 'gal', 'female', 'her', 'herself', 'Mary']\n",
      "['man', 'boy', 'he', 'father', 'son', 'guy', 'male', 'his', 'himself', 'John']\n"
     ]
    },
    {
     "data": {
      "image/png": "[encoded data removed]",
      "text/plain": [
       "<Figure size 360x180 with 1 Axes>"
      ]
     },
     "metadata": {},
     "output_type": "display_data"
    }
   ],
   "source": [
    "target_seeds_1 = ['woman', 'girl', 'she', 'mother', 'daugher', 'gal', 'female', 'her', 'herself', 'Mary']\n",
    "target_seeds_2 = ['man', 'boy', 'he', 'father', 'son', 'guy', 'male', 'his', 'himself', 'John']\n",
    "\n",
    "print([s for s in target_seeds_1 if s in google_model])\n",
    "print([s for s in target_seeds_2 if s in google_model])\n",
    "\n",
    "explained_variance_ratios_a, component1_a, component2_a = run_pca(google_model, list(zip(target_seeds_1, target_seeds_2)))\n",
    "plot_explained_variance(explained_variance_ratios_a)"
   ]
  },
  {
   "cell_type": "code",
   "execution_count": 132,
   "metadata": {},
   "outputs": [
    {
     "name": "stdout",
     "output_type": "stream",
     "text": [
      "['female', 'herself', 'Mary', 'girl', 'mother', 'her', 'she', 'daugher', 'woman', 'gal']\n",
      "['John', 'son', 'he', 'guy', 'himself', 'man', 'father', 'male', 'boy', 'his']\n"
     ]
    },
    {
     "data": {
      "image/png": "[encoded data removed]",
      "text/plain": [
       "<Figure size 360x180 with 1 Axes>"
      ]
     },
     "metadata": {},
     "output_type": "display_data"
    }
   ],
   "source": [
    "random.shuffle(target_seeds_1)\n",
    "random.shuffle(target_seeds_2)\n",
    "\n",
    "print([s for s in target_seeds_1 if s in google_model])\n",
    "print([s for s in target_seeds_2 if s in google_model])\n",
    "\n",
    "explained_variance_ratios_a, component1_a, component2_a = run_pca(google_model, list(zip(target_seeds_1, target_seeds_2)))\n",
    "plot_explained_variance(explained_variance_ratios_a)"
   ]
  },
  {
   "cell_type": "markdown",
   "metadata": {},
   "source": [
    "<br><br>\n",
    "\n",
    "# Plot Goodreads example"
   ]
  },
  {
   "cell_type": "code",
   "execution_count": 110,
   "metadata": {},
   "outputs": [],
   "source": [
    "def get_similarity(model, terms1, terms2):\n",
    "    similarities = []\n",
    "    for t1 in terms2:\n",
    "        for t2 in terms2:\n",
    "            similarities.append(1 - scipy.spatial.distance.cosine(model.wv[t1], model.wv[t2]))\n",
    "    return np.mean(similarities)\n",
    "\n",
    "def get_average_vector(model, tokens):\n",
    "    word_vectors = [model.wv[w] for w in tokens if w in model.wv.vocab]\n",
    "    text_vector = np.average(word_vectors, axis=0)\n",
    "    text_vector /= np.linalg.norm(text_vector, ord=2)\n",
    "    return text_vector\n",
    "    \n",
    "def create_seeds_id(row):\n",
    "    return '_'.join(row['Category'].split()) + '-' + '_'.join(row['Used in Paper'].split('(')[-1].replace(')', '').replace(',', '').replace('.', '').strip().split())"
   ]
  },
  {
   "cell_type": "code",
   "execution_count": 103,
   "metadata": {},
   "outputs": [
    {
     "name": "stdout",
     "output_type": "stream",
     "text": [
      "178\n"
     ]
    },
    {
     "data": {
      "text/html": [
       "<div>\n",
       "<style scoped>\n",
       "    .dataframe tbody tr th:only-of-type {\n",
       "        vertical-align: middle;\n",
       "    }\n",
       "\n",
       "    .dataframe tbody tr th {\n",
       "        vertical-align: top;\n",
       "    }\n",
       "\n",
       "    .dataframe thead th {\n",
       "        text-align: right;\n",
       "    }\n",
       "</style>\n",
       "<table border=\"1\" class=\"dataframe\">\n",
       "  <thead>\n",
       "    <tr style=\"text-align: right;\">\n",
       "      <th></th>\n",
       "      <th>Category</th>\n",
       "      <th>Seeds</th>\n",
       "      <th>Source / Justification</th>\n",
       "      <th>Source Categories</th>\n",
       "      <th>Used in Paper</th>\n",
       "      <th>Link</th>\n",
       "      <th>Seeds ID</th>\n",
       "    </tr>\n",
       "  </thead>\n",
       "  <tbody>\n",
       "    <tr>\n",
       "      <th>97</th>\n",
       "      <td>career words</td>\n",
       "      <td>[executive, management, professional, corpo-, ...</td>\n",
       "      <td>All word lists are taken from Caliskan et al. ...</td>\n",
       "      <td>prior-work</td>\n",
       "      <td>Lipstick on a Pig: Debiasing Methods Cover up ...</td>\n",
       "      <td>None</td>\n",
       "      <td>career_words-Gonen_&amp;_Goldberg_2019</td>\n",
       "    </tr>\n",
       "    <tr>\n",
       "      <th>9</th>\n",
       "      <td>african american names market discrimination</td>\n",
       "      <td>[Kareem, Darnell, Tyrone, Hakim, Jamal, Leroy,...</td>\n",
       "      <td>Bertrand and Mullainathan (2004) (low frequenc...</td>\n",
       "      <td>borrowed-from-social-sciences</td>\n",
       "      <td>Semantics derived automatically from language ...</td>\n",
       "      <td>https://dataverse.harvard.edu/dataset.xhtml?pe...</td>\n",
       "      <td>african_american_names_market_discrimination-C...</td>\n",
       "    </tr>\n",
       "    <tr>\n",
       "      <th>137</th>\n",
       "      <td>male plural</td>\n",
       "      <td>[men, boys, fathers, sons, brothers, husbands,...</td>\n",
       "      <td>None</td>\n",
       "      <td>corpus-derived</td>\n",
       "      <td>Unsupervised Discovery of Gendered Language th...</td>\n",
       "      <td>None</td>\n",
       "      <td>male_plural-Hoyle_et_al_2019</td>\n",
       "    </tr>\n",
       "    <tr>\n",
       "      <th>12</th>\n",
       "      <td>male names 1</td>\n",
       "      <td>[John, Paul, Mike, Kevin, Steve, Greg, Jeff, B...</td>\n",
       "      <td>Nosek at al. (2002)</td>\n",
       "      <td>borrowed-from-social-sciences</td>\n",
       "      <td>Semantics derived automatically from language ...</td>\n",
       "      <td>https://dataverse.harvard.edu/dataset.xhtml?pe...</td>\n",
       "      <td>male_names_1-Caliskan_et_al_2017</td>\n",
       "    </tr>\n",
       "    <tr>\n",
       "      <th>109</th>\n",
       "      <td>male stereotype words</td>\n",
       "      <td>[researcher, lawyer, developer, architect, den...</td>\n",
       "      <td>To study the quality of the gender information...</td>\n",
       "      <td>lexical-resources</td>\n",
       "      <td>Learning gender-neutral word embeddings (Zhao ...</td>\n",
       "      <td>https://github.com/uclanlp/gn_glove</td>\n",
       "      <td>male_stereotype_words-Zhao_et_al_2018</td>\n",
       "    </tr>\n",
       "  </tbody>\n",
       "</table>\n",
       "</div>"
      ],
      "text/plain": [
       "                                         Category  \\\n",
       "97                                   career words   \n",
       "9    african american names market discrimination   \n",
       "137                                   male plural   \n",
       "12                                   male names 1   \n",
       "109                         male stereotype words   \n",
       "\n",
       "                                                 Seeds  \\\n",
       "97   [executive, management, professional, corpo-, ...   \n",
       "9    [Kareem, Darnell, Tyrone, Hakim, Jamal, Leroy,...   \n",
       "137  [men, boys, fathers, sons, brothers, husbands,...   \n",
       "12   [John, Paul, Mike, Kevin, Steve, Greg, Jeff, B...   \n",
       "109  [researcher, lawyer, developer, architect, den...   \n",
       "\n",
       "                                Source / Justification  \\\n",
       "97   All word lists are taken from Caliskan et al. ...   \n",
       "9    Bertrand and Mullainathan (2004) (low frequenc...   \n",
       "137                                               None   \n",
       "12                                 Nosek at al. (2002)   \n",
       "109  To study the quality of the gender information...   \n",
       "\n",
       "                 Source Categories  \\\n",
       "97                      prior-work   \n",
       "9    borrowed-from-social-sciences   \n",
       "137                 corpus-derived   \n",
       "12   borrowed-from-social-sciences   \n",
       "109              lexical-resources   \n",
       "\n",
       "                                         Used in Paper  \\\n",
       "97   Lipstick on a Pig: Debiasing Methods Cover up ...   \n",
       "9    Semantics derived automatically from language ...   \n",
       "137  Unsupervised Discovery of Gendered Language th...   \n",
       "12   Semantics derived automatically from language ...   \n",
       "109  Learning gender-neutral word embeddings (Zhao ...   \n",
       "\n",
       "                                                  Link  \\\n",
       "97                                                None   \n",
       "9    https://dataverse.harvard.edu/dataset.xhtml?pe...   \n",
       "137                                               None   \n",
       "12   https://dataverse.harvard.edu/dataset.xhtml?pe...   \n",
       "109                https://github.com/uclanlp/gn_glove   \n",
       "\n",
       "                                              Seeds ID  \n",
       "97                  career_words-Gonen_&_Goldberg_2019  \n",
       "9    african_american_names_market_discrimination-C...  \n",
       "137                       male_plural-Hoyle_et_al_2019  \n",
       "12                    male_names_1-Caliskan_et_al_2017  \n",
       "109              male_stereotype_words-Zhao_et_al_2018  "
      ]
     },
     "execution_count": 103,
     "metadata": {},
     "output_type": "execute_result"
    }
   ],
   "source": [
    "seeds_df['Seeds ID'] = seeds_df.apply(lambda row: create_seeds_id(row), axis=1)\n",
    "\n",
    "print(len(seeds_df.index))\n",
    "seeds_df.sample(5)"
   ]
  },
  {
   "cell_type": "markdown",
   "metadata": {},
   "source": [
    "Load the romance and history models. You should train these separately using gensim and the Goodreads data provided by the [UCSD Book Graph](https://sites.google.com/eng.ucsd.edu/ucsdbookgraph/home)."
   ]
  },
  {
   "cell_type": "code",
   "execution_count": 104,
   "metadata": {},
   "outputs": [],
   "source": [
    "romance_model_path = base_directory_path + '/romance.word2vec.model' # \n",
    "history_model_path = base_directory_path + '/history.word2vec.model'\n",
    "\n",
    "romance_model = KeyedVectors.load(romance_model_path, mmap='r')\n",
    "history_model = KeyedVectors.load(history_model_path, mmap='r')"
   ]
  },
  {
   "cell_type": "code",
   "execution_count": 105,
   "metadata": {},
   "outputs": [
    {
     "name": "stdout",
     "output_type": "stream",
     "text": [
      "18\n"
     ]
    }
   ],
   "source": [
    "paper_category_seeds_dict = defaultdict(lambda: defaultdict(dict))\n",
    "for i, _row in seeds_df.iterrows():\n",
    "    if not _row['Category'] in paper_category_seeds_dict[_row['Used in Paper']]:\n",
    "        paper_category_seeds_dict[_row['Used in Paper']][_row['Category']] = _row\n",
    "    else:\n",
    "        print('Collision!', _row['Category'])\n",
    "print(len(paper_category_seeds_dict))"
   ]
  },
  {
   "cell_type": "code",
   "execution_count": 106,
   "metadata": {},
   "outputs": [],
   "source": [
    "pleasantness_seeds = ['joy', 'love', 'peace', 'wonderful', 'pleasure', 'friend', 'laughter', 'happy']\n",
    "unpleasantness_seeds = ['agony', 'terrible', 'horrible', 'nasty', 'evil', 'war', 'awful', 'failure']"
   ]
  },
  {
   "cell_type": "code",
   "execution_count": 107,
   "metadata": {},
   "outputs": [],
   "source": [
    "unpleasant_vector_romance = get_average_vector(romance_model, unpleasantness_seeds)\n",
    "pleasant_vector_romance = get_average_vector(romance_model, pleasantness_seeds)\n",
    "\n",
    "unpleasant_vector_history = get_average_vector(history_model, unpleasantness_seeds)\n",
    "pleasant_vector_history = get_average_vector(history_model, pleasantness_seeds)"
   ]
  },
  {
   "cell_type": "code",
   "execution_count": 108,
   "metadata": {},
   "outputs": [
    {
     "name": "stdout",
     "output_type": "stream",
     "text": [
      "male names 1\n",
      "female names 1\n",
      "male 1\n",
      "female 1\n",
      "male 2\n",
      "female 2\n",
      "definitional female\n",
      "definitional male\n",
      "male\n",
      "female\n",
      "male roles\n",
      "female roles\n",
      "female pairs\n",
      "male pairs\n",
      "male\n",
      "female\n",
      "female names\n",
      "male names\n",
      "male definition words 2\n",
      "female definition words 2\n",
      "male stereotype words\n",
      "female stereotype words\n",
      "female\n",
      "male\n",
      "female 2\n",
      "male 2\n",
      "male singular\n",
      "male plural\n",
      "female singular\n",
      "female plural\n",
      "male names\n",
      "female names\n",
      "male terms\n",
      "female terms\n",
      "male\n",
      "female\n",
      "male words (Penn Treebank)\n",
      "female words (Penn Treebank)\n",
      "male words (CNN/Daily Mail)\n",
      "female words (CNN/Daily Mail)\n",
      "common gender identity pairs (male)\n",
      "common gender identity pairs (female)\n"
     ]
    }
   ],
   "source": [
    "dicts_to_plot = []\n",
    "\n",
    "for _paper, _category_seeds_dict in paper_category_seeds_dict.items():\n",
    "    for _category, _seeds_dict in _category_seeds_dict.items():\n",
    "        \n",
    "        if len(_seeds_dict['Seeds']) < 30 and ('female' in _category or 'male' in _category):\n",
    "\n",
    "            print(_category)\n",
    "\n",
    "            # FORMAT THE SEEDS FOR THE Y-AXIS LABELS\n",
    "            _seeds = ', '.join([s for s in _seeds_dict['Seeds'] if s in romance_model.wv and s in history_model])   # Instead include if only at least one model \n",
    "            if len(_seeds.split()) > 5:\n",
    "                _seeds = ' '.join(_seeds.split()[:5]) + '...'\n",
    "            _seeds += '\\n(' + ' '.join(_seeds_dict['Seeds ID'].split('-')[-1].split('_')) + ')'\n",
    "\n",
    "            # CHECK WHICH CATEGORY FOR THE SEEDS\n",
    "            if 'female' in _category:\n",
    "                _label = 'female'\n",
    "            elif 'male' in _category:\n",
    "                _label = 'male'\n",
    "\n",
    "            # GET SIMILARITIES FOR ROMANCE AND HISTORY\n",
    "            for _seed in _seeds_dict['Seeds']:\n",
    "                if _seed in romance_model.wv and _seed in history_model.wv:\n",
    "                    dicts_to_plot.append({'Seed': _seed,\n",
    "                                          'Test': 'romance',\n",
    "                                          'Label': _label,\n",
    "                                          'Set ID': _seeds_dict['Seeds ID'],\n",
    "                                          'Seeds': _seeds,\n",
    "                                          'Similarity Pleasant': 1-scipy.spatial.distance.cosine(romance_model.wv[_seed], pleasant_vector_romance),\n",
    "                                          'Similarity Unpleasant': 1-scipy.spatial.distance.cosine(romance_model.wv[_seed], unpleasant_vector_romance)})\n",
    "                    dicts_to_plot.append({'Seed': _seed,\n",
    "                                          'Test': 'history + biography',\n",
    "                                          'Label': _label,\n",
    "                                          'Set ID': _seeds_dict['Seeds ID'],\n",
    "                                          'Seeds': _seeds,\n",
    "                                          'Similarity Pleasant': 1-scipy.spatial.distance.cosine(history_model.wv[_seed], pleasant_vector_history),\n",
    "                                          'Similarity Unpleasant': 1-scipy.spatial.distance.cosine(history_model.wv[_seed], unpleasant_vector_history)})\n",
    "\n",
    "df_to_plot = pd.DataFrame(dicts_to_plot)"
   ]
  },
  {
   "cell_type": "code",
   "execution_count": 109,
   "metadata": {},
   "outputs": [
    {
     "data": {
      "text/plain": [
       "Text(0.5, 0, 'Similarity to $\\\\it{Unpleasantness}$ Vector')"
      ]
     },
     "execution_count": 109,
     "metadata": {},
     "output_type": "execute_result"
    },
    {
     "data": {
      "image/png": "[encoded data removed]",
      "text/plain": [
       "<Figure size 288x360 with 1 Axes>"
      ]
     },
     "metadata": {},
     "output_type": "display_data"
    }
   ],
   "source": [
    "order = ['woman, women, she, her, her,...\\n(Kozlowski et al 2019)',\n",
    "         'sister, female, woman, girl, daughter,...\\n(Caliskan et al 2017)',\n",
    "         'woman, girl, she, mother, gal,...\\n(Bolukbasi et al 2016)',\n",
    "         'woman, girl, mother, daughter, sister,...\\n(Hoyle et al 2019)',\n",
    "         'lady, nun, heroine, actress, businesswoman,...\\n(Zhao et al 2018)',\n",
    "         'baker, counselor, nanny, librarians, socialite,...\\n(Zhao et al 2018)']\n",
    "\n",
    "fig, ax = plt.subplots(figsize=(4, 5))\n",
    "sns.set(style='ticks', font_scale=1.4)\n",
    "\n",
    "sns.boxplot(data=df_to_plot[df_to_plot['Label'] == 'female'],\n",
    "            x='Similarity Unpleasant',\n",
    "            y='Seeds',\n",
    "            hue='Test',\n",
    "            palette=sns.set_palette(sns.color_palette(['#ccebc5', '#decbe4'])),\n",
    "            hue_order=['romance', 'history + biography'],\n",
    "            showfliers=False,\n",
    "            ax=ax,\n",
    "            order=order)\n",
    "sns.stripplot(data=df_to_plot[df_to_plot['Label'] == 'female'],\n",
    "              x='Similarity Unpleasant',\n",
    "              y='Seeds',\n",
    "              hue='Test',\n",
    "              jitter=True,\n",
    "              palette=sns.set_palette(sns.color_palette(['#ccebc5', '#decbe4'])),\n",
    "              hue_order=['romance', 'history + biography'],\n",
    "              split=True,\n",
    "              linewidth=1,\n",
    "              edgecolor='gray',\n",
    "              ax=ax,\n",
    "              order=order)\n",
    "\n",
    "sns.despine(ax=ax)\n",
    "\n",
    "handles, labels = ax.get_legend_handles_labels()\n",
    "plt.legend(handles[0:2], labels[0:2], loc='upper center', bbox_to_anchor=(0, -0.2), ncol=2)\n",
    "\n",
    "plt.xlabel(r'Similarity to $\\it{Unpleasantness}$ Vector')\n",
    "\n",
    "# plt.savefig(plots_directory_path + '/boxplot.goodreads.gender.comparison.combined.pdf', bbox_inches='tight')"
   ]
  },
  {
   "cell_type": "code",
   "execution_count": null,
   "metadata": {},
   "outputs": [],
   "source": []
  }
 ],
 "metadata": {
  "interpreter": {
   "hash": "3bf6718e1fb94d37e4dcdce4af31e71b15d9d634835b5761d954c77044e0e9ad"
  },
  "kernelspec": {
   "display_name": "Python 3.7.9 64-bit ('python3.7env': conda)",
   "name": "python3"
  },
  "language_info": {
   "name": "python",
   "version": ""
  },
  "orig_nbformat": 2
 },
 "nbformat": 4,
 "nbformat_minor": 2
}
